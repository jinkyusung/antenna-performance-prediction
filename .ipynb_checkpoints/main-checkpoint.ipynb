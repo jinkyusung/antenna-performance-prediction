{
 "cells": [
  {
   "cell_type": "code",
   "execution_count": 1,
   "id": "1U2U_p71Uga5",
   "metadata": {
    "colab": {
     "base_uri": "https://localhost:8080/"
    },
    "executionInfo": {
     "elapsed": 6404,
     "status": "ok",
     "timestamp": 1660064651938,
     "user": {
      "displayName": "성진규",
      "userId": "05771767087170578556"
     },
     "user_tz": -540
    },
    "id": "1U2U_p71Uga5",
    "outputId": "1fbb2f1f-51e8-4b12-f3fa-092448b680e3"
   },
   "outputs": [],
   "source": [
    "# # Colab execute.\n",
    "# from google.colab import drive\n",
    "\n",
    "\n",
    "# drive.mount('/content/drive')\n",
    "# _path = '/content/drive/MyDrive/antenna-performance-prediction/antenna-performance-prediction'\n",
    "# %cd /content/drive/MyDrive/antenna-performance-prediction/antenna-performance-prediction/"
   ]
  },
  {
   "cell_type": "code",
   "execution_count": null,
   "id": "a8823aa6",
   "metadata": {
    "colab": {
     "base_uri": "https://localhost:8080/"
    },
    "executionInfo": {
     "elapsed": 9888,
     "status": "ok",
     "timestamp": 1660064661820,
     "user": {
      "displayName": "성진규",
      "userId": "05771767087170578556"
     },
     "user_tz": -540
    },
    "id": "a8823aa6",
    "outputId": "20b78925-202e-40a0-e058-f30e399d19d3"
   },
   "outputs": [],
   "source": [
    "import pandas as pd\n",
    "import optuna\n",
    "import xgboost as xgb\n",
    "from sklearn.multioutput import MultiOutputRegressor\n",
    "import time\n",
    "from mylibrary import manipulation\n",
    "from mylibrary import visualization as visual\n",
    "\n",
    "# Local execute.\n",
    "origin_train = pd.read_csv('dataset/train.csv')\n",
    "origin_test = pd.read_csv('dataset/test.csv')\n",
    "x_info = pd.read_csv('dataset/meta/x_feature_info.csv')\n",
    "y_info = pd.read_csv('dataset/meta/y_feature_info.csv')\n",
    "submission = pd.read_csv(\"dataset/sample_submission.csv\")\n",
    "\n",
    "# Colab execute.\n",
    "# origin_train = pd.read_csv(f'{_path}/dataset/train.csv')\n",
    "# origin_test = pd.read_csv(f'{_path}/dataset/test.csv')\n",
    "# x_info = pd.read_csv(f'{_path}/dataset/meta/x_feature_info.csv')\n",
    "# y_info = pd.read_csv(f'{_path}/dataset/meta/y_feature_info.csv')\n",
    "# submission = pd.read_csv(f'{_path}/dataset/sample_submission.csv')\n",
    "\n",
    "\n",
    "x_train = origin_train.filter(regex='X')\n",
    "y_train = origin_train.filter(regex='Y')\n",
    "\n",
    "x_test = origin_test.drop(columns=['ID'])\n",
    "\n",
    "x_name = manipulation.make_namegroup(x_train, x_info)\n",
    "y_name = manipulation.make_namegroup(y_train, y_info)\n",
    "\n",
    "visual.print_namegroup(x_name)\n",
    "print()\n",
    "visual.print_namegroup(y_name)"
   ]
  },
  {
   "cell_type": "code",
   "execution_count": 3,
   "id": "a30bee35",
   "metadata": {
    "executionInfo": {
     "elapsed": 15,
     "status": "ok",
     "timestamp": 1660064661822,
     "user": {
      "displayName": "성진규",
      "userId": "05771767087170578556"
     },
     "user_tz": -540
    },
    "id": "a30bee35"
   },
   "outputs": [
    {
     "name": "stdout",
     "output_type": "stream",
     "text": [
      "[[ 6.66884603e-01  0.00000000e+00  2.98507463e-02 ... -3.67226604e-01\n",
      "  -1.41616906e-01 -5.05028932e-01]\n",
      " [ 3.33442301e-01  1.00000000e-03 -3.13432836e-01 ... -3.02510765e-02\n",
      "   6.50943448e-01 -5.27541511e-01]\n",
      " [ 1.33344230e+00  0.00000000e+00 -4.77611940e-01 ... -1.60030347e-01\n",
      "   2.99524126e-01 -9.21136698e-01]\n",
      " ...\n",
      " [ 0.00000000e+00  0.00000000e+00 -3.88059701e-01 ...  4.15553564e-01\n",
      "   3.10755249e-01 -1.37922908e+00]\n",
      " [-6.66557699e-01  0.00000000e+00 -5.37313433e-01 ... -3.79981806e-01\n",
      "  -1.55759183e-01 -5.79946627e-01]\n",
      " [-6.66557699e-01  0.00000000e+00 -2.38805970e-01 ...  3.75524069e-01\n",
      "   2.15442229e-01  1.23787312e+00]]\n",
      "[[ 0.00000000e+00  1.00000000e-03  1.40298507e+00 ...  2.37537325e-01\n",
      "  -5.71840180e-01 -9.77593834e-01]\n",
      " [-3.33115397e-01  0.00000000e+00  3.13432836e-01 ...  6.35205003e-01\n",
      "  -5.12898039e-01 -6.31744290e-01]\n",
      " [ 3.33442301e-01  0.00000000e+00  2.53731343e-01 ...  2.87645259e-01\n",
      "  -1.15836016e+00 -2.07886144e+00]\n",
      " ...\n",
      " [ 3.33442301e-01  0.00000000e+00 -5.37313433e-01 ... -2.97985571e-01\n",
      "  -2.69518598e-01 -1.10870588e-01]\n",
      " [-3.33115397e-01  1.00000000e-03 -8.20895522e-01 ...  1.76474457e-01\n",
      "  -6.27563446e-01  5.17280441e-01]\n",
      " [ 1.00000000e+00  0.00000000e+00 -6.26865672e-01 ...  5.38945660e-01\n",
      "   2.40418941e-01 -1.03434105e+00]]\n"
     ]
    }
   ],
   "source": [
    "from sklearn.preprocessing import RobustScaler\n",
    "\n",
    "\n",
    "# n차 검사 통과 여부\n",
    "# 모든 값이 1임.\n",
    "x_train = x_train.drop(columns=x_name['n차 검사 통과 여부'])\n",
    "x_test = x_test.drop(columns=x_name['n차 검사 통과 여부'])\n",
    "\n",
    "# 방열 재료 n 무게\n",
    "# 'X_10','X_11'은 결측값이 절대 다수이고,\n",
    "# 결측값과 아닌 값 사이의 뚜렷한 차이가 나타나지 않음.\n",
    "x_train = x_train.drop(columns=['X_10','X_11'])\n",
    "x_test = x_test.drop(columns=['X_10','X_11'])\n",
    "\n",
    "# 실란트 본드 소요량\n",
    "# 'X_46'은 예측하려는 값이나 다른 X값보다 그 크기가 훨씬 크다.\n",
    "transformer = RobustScaler().fit(x_train[['X_46']])\n",
    "x_train['X_46'] = transformer.transform(x_train[['X_46']])\n",
    "x_test['X_46'] = transformer.transform(x_test[['X_46']])\n",
    "\n",
    "# Cal 투입 전 대기 시간\n",
    "# 'X_49'는 예측하려는 값이나 다른 X값보다 그 크기가 훨씬 크다.\n",
    "transformer = RobustScaler().fit(x_train[['X_49']])\n",
    "x_train['X_49'] = transformer.transform(x_train[['X_49']])\n",
    "x_test['X_49'] = transformer.transform(x_test[['X_49']])\n"
   ]
  },
  {
   "cell_type": "code",
   "execution_count": null,
   "id": "b9a08990",
   "metadata": {
    "id": "b9a08990"
   },
   "outputs": [],
   "source": [
    "start_t = time.time()\n",
    "\n",
    "###\n",
    "xgb_model = xgb.XGBRegressor(n_estimators=1000, learning_rate=0.1, max_depth=7)\n",
    "model = MultiOutputRegressor(xgb_model)\n",
    "model.fit(x_train, y_train)\n",
    "y_pred = model.predict(x_test)\n",
    "###\n",
    "y_pred\n",
    "\n",
    "end_t = time.time()\n",
    "t = time.gmtime(end_t - start_t)\n",
    "print(f\"[Training time] => {t.tm_min}(min) {t.tm_sec}(sec)\")"
   ]
  },
  {
   "cell_type": "code",
   "execution_count": null,
   "id": "aae3b768",
   "metadata": {
    "id": "aae3b768"
   },
   "outputs": [],
   "source": [
    "visual.pred_visualize(origin_train.filter(regex='Y'), y_pred)"
   ]
  },
  {
   "cell_type": "code",
   "execution_count": null,
   "id": "3d693310",
   "metadata": {
    "id": "3d693310"
   },
   "outputs": [],
   "source": [
    "for idx, col in enumerate(submission.columns):\n",
    "    if col == 'ID':\n",
    "        continue\n",
    "    submission[col] = y_pred[:, idx-1]\n",
    "\n",
    "submission.to_csv(f\"submissions/{time.asctime().replace(':', '-')}.csv\", index=False)\n",
    "print('Done.')"
   ]
  }
 ],
 "metadata": {
  "accelerator": "GPU",
  "colab": {
   "collapsed_sections": [],
   "name": "main.ipynb",
   "provenance": []
  },
  "gpuClass": "standard",
  "kernelspec": {
   "display_name": "Python 3 (ipykernel)",
   "language": "python",
   "name": "python3"
  },
  "language_info": {
   "codemirror_mode": {
    "name": "ipython",
    "version": 3
   },
   "file_extension": ".py",
   "mimetype": "text/x-python",
   "name": "python",
   "nbconvert_exporter": "python",
   "pygments_lexer": "ipython3",
   "version": "3.9.12"
  }
 },
 "nbformat": 4,
 "nbformat_minor": 5
}

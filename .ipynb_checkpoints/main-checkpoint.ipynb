{
 "cells": [
  {
   "cell_type": "code",
   "execution_count": 1,
   "id": "1U2U_p71Uga5",
   "metadata": {
    "colab": {
     "base_uri": "https://localhost:8080/"
    },
    "executionInfo": {
     "elapsed": 6404,
     "status": "ok",
     "timestamp": 1660064651938,
     "user": {
      "displayName": "성진규",
      "userId": "05771767087170578556"
     },
     "user_tz": -540
    },
    "id": "1U2U_p71Uga5",
    "outputId": "1fbb2f1f-51e8-4b12-f3fa-092448b680e3"
   },
   "outputs": [],
   "source": [
    "# # Colab execute.\n",
    "# from google.colab import drive\n",
    "\n",
    "\n",
    "# drive.mount('/content/drive')\n",
    "# _path = '/content/drive/MyDrive/antenna-performance-prediction/antenna-performance-prediction'\n",
    "# %cd /content/drive/MyDrive/antenna-performance-prediction/antenna-performance-prediction/"
   ]
  },
  {
   "cell_type": "code",
   "execution_count": 2,
   "id": "a8823aa6",
   "metadata": {
    "colab": {
     "base_uri": "https://localhost:8080/"
    },
    "executionInfo": {
     "elapsed": 9888,
     "status": "ok",
     "timestamp": 1660064661820,
     "user": {
      "displayName": "성진규",
      "userId": "05771767087170578556"
     },
     "user_tz": -540
    },
    "id": "a8823aa6",
    "outputId": "20b78925-202e-40a0-e058-f30e399d19d3"
   },
   "outputs": [
    {
     "name": "stdout",
     "output_type": "stream",
     "text": [
      "PCB 체결 시 단계별 누름량(Step n): X_01  X_02  X_05  X_06\n",
      "방열 재료 n 무게: X_03  X_10  X_11\n",
      "n차 검사 통과 여부: X_04  X_23  X_47  X_48\n",
      "방열 재료 n 면적: X_07  X_08  X_09\n",
      "커넥터 위치 기준 좌표: X_12\n",
      "각 안테나 패드 위치(높이) 차이: X_13\n",
      "n번 안테나 패드 위치: X_14  X_15  X_16  X_17  X_18\n",
      "n번 스크류 삽입 깊이: X_19  X_20  X_21  X_22\n",
      "커넥터 n번 핀 치수: X_24  X_25  X_26  X_27  X_28  X_29\n",
      "스크류 삽입 깊이n: X_30  X_31  X_32  X_33\n",
      "스크류 체결 시 분당 회전수 n: X_34  X_35  X_36  X_37\n",
      "하우징 PCB 안착부 n 치수: X_38  X_39  X_40\n",
      "레이돔 치수 (안테나 n번 부위): X_41  X_42  X_43  X_44\n",
      "안테나 부분 레이돔 기울기: X_45\n",
      "실란트 본드 소요량: X_46\n",
      "Cal 투입 전 대기 시간: X_49\n",
      "RFn 부분 SMT 납 량: X_50  X_51  X_52  X_53  X_54  X_55  X_56\n",
      "\n",
      "안테나 Gain 평균 (각도n): Y_01  Y_05  Y_07  Y_11\n",
      "안테나 n Gain 편차: Y_02  Y_03\n",
      "평균 신호대 잡음비: Y_04\n",
      "신호대 잡음비 (각도n): Y_06  Y_08  Y_09  Y_10  Y_12  Y_13  Y_14\n"
     ]
    }
   ],
   "source": [
    "import pandas as pd\n",
    "from mylibrary import manipulation\n",
    "from mylibrary import visualization as visual\n",
    "\n",
    "# Local execute.\n",
    "origin_train = pd.read_csv('dataset/train.csv')\n",
    "origin_test = pd.read_csv('dataset/test.csv')\n",
    "x_info = pd.read_csv('dataset/meta/x_feature_info.csv')\n",
    "y_info = pd.read_csv('dataset/meta/y_feature_info.csv')\n",
    "submission = pd.read_csv(\"dataset/sample_submission.csv\")\n",
    "\n",
    "# Colab execute.\n",
    "# origin_train = pd.read_csv(f'{_path}/dataset/train.csv')\n",
    "# origin_test = pd.read_csv(f'{_path}/dataset/test.csv')\n",
    "# x_info = pd.read_csv(f'{_path}/dataset/meta/x_feature_info.csv')\n",
    "# y_info = pd.read_csv(f'{_path}/dataset/meta/y_feature_info.csv')\n",
    "# submission = pd.read_csv(f'{_path}/dataset/sample_submission.csv')\n",
    "\n",
    "\n",
    "x_train = origin_train.filter(regex='X')\n",
    "y_train = origin_train.filter(regex='Y')\n",
    "\n",
    "x_test = origin_test.drop(columns=['ID'])\n",
    "\n",
    "x_name = manipulation.make_namegroup(x_train, x_info)\n",
    "y_name = manipulation.make_namegroup(y_train, y_info)\n",
    "\n",
    "visual.print_namegroup(x_name)\n",
    "print()\n",
    "visual.print_namegroup(y_name)"
   ]
  },
  {
   "cell_type": "code",
   "execution_count": 3,
   "id": "a30bee35",
   "metadata": {
    "executionInfo": {
     "elapsed": 15,
     "status": "ok",
     "timestamp": 1660064661822,
     "user": {
      "displayName": "성진규",
      "userId": "05771767087170578556"
     },
     "user_tz": -540
    },
    "id": "a30bee35"
   },
   "outputs": [
    {
     "ename": "ValueError",
     "evalue": "Expected 2D array, got 1D array instead:\narray=[1463. 1463. 1468. ... 1459. 1469. 1462.].\nReshape your data either using array.reshape(-1, 1) if your data has a single feature or array.reshape(1, -1) if it contains a single sample.",
     "output_type": "error",
     "traceback": [
      "\u001b[1;31m---------------------------------------------------------------------------\u001b[0m",
      "\u001b[1;31mValueError\u001b[0m                                Traceback (most recent call last)",
      "Input \u001b[1;32mIn [3]\u001b[0m, in \u001b[0;36m<cell line: 16>\u001b[1;34m()\u001b[0m\n\u001b[0;32m     12\u001b[0m \u001b[38;5;66;03m# 실란트 본드 소요량\u001b[39;00m\n\u001b[0;32m     13\u001b[0m \u001b[38;5;66;03m# 'X_46'은 예측하려는 값이나 다른 X값보다 그 크기가 훨씬 크다.\u001b[39;00m\n\u001b[0;32m     14\u001b[0m \u001b[38;5;28;01mfrom\u001b[39;00m \u001b[38;5;21;01msklearn\u001b[39;00m\u001b[38;5;21;01m.\u001b[39;00m\u001b[38;5;21;01mpreprocessing\u001b[39;00m \u001b[38;5;28;01mimport\u001b[39;00m RobustScaler\n\u001b[1;32m---> 16\u001b[0m transformer \u001b[38;5;241m=\u001b[39m \u001b[43mRobustScaler\u001b[49m\u001b[43m(\u001b[49m\u001b[43m)\u001b[49m\u001b[38;5;241;43m.\u001b[39;49m\u001b[43mfit\u001b[49m\u001b[43m(\u001b[49m\u001b[43mx_train\u001b[49m\u001b[43m[\u001b[49m\u001b[38;5;124;43m'\u001b[39;49m\u001b[38;5;124;43mX_46\u001b[39;49m\u001b[38;5;124;43m'\u001b[39;49m\u001b[43m]\u001b[49m\u001b[43m)\u001b[49m\n\u001b[0;32m     17\u001b[0m x_train[\u001b[38;5;124m'\u001b[39m\u001b[38;5;124mX_46\u001b[39m\u001b[38;5;124m'\u001b[39m] \u001b[38;5;241m=\u001b[39m transformer\u001b[38;5;241m.\u001b[39mtransform(x_train[\u001b[38;5;124m'\u001b[39m\u001b[38;5;124mX_46\u001b[39m\u001b[38;5;124m'\u001b[39m])\n\u001b[0;32m     18\u001b[0m x_test[\u001b[38;5;124m'\u001b[39m\u001b[38;5;124mX_46\u001b[39m\u001b[38;5;124m'\u001b[39m] \u001b[38;5;241m=\u001b[39m transformer\u001b[38;5;241m.\u001b[39mtransform(x_test[\u001b[38;5;124m'\u001b[39m\u001b[38;5;124mX_46\u001b[39m\u001b[38;5;124m'\u001b[39m])\n",
      "File \u001b[1;32mC:\\Anaconda\\lib\\site-packages\\sklearn\\preprocessing\\_data.py:1488\u001b[0m, in \u001b[0;36mRobustScaler.fit\u001b[1;34m(self, X, y)\u001b[0m\n\u001b[0;32m   1470\u001b[0m \u001b[38;5;124;03m\"\"\"Compute the median and quantiles to be used for scaling.\u001b[39;00m\n\u001b[0;32m   1471\u001b[0m \n\u001b[0;32m   1472\u001b[0m \u001b[38;5;124;03mParameters\u001b[39;00m\n\u001b[1;32m   (...)\u001b[0m\n\u001b[0;32m   1484\u001b[0m \u001b[38;5;124;03m    Fitted scaler.\u001b[39;00m\n\u001b[0;32m   1485\u001b[0m \u001b[38;5;124;03m\"\"\"\u001b[39;00m\n\u001b[0;32m   1486\u001b[0m \u001b[38;5;66;03m# at fit, convert sparse matrices to csc for optimized computation of\u001b[39;00m\n\u001b[0;32m   1487\u001b[0m \u001b[38;5;66;03m# the quantiles\u001b[39;00m\n\u001b[1;32m-> 1488\u001b[0m X \u001b[38;5;241m=\u001b[39m \u001b[38;5;28;43mself\u001b[39;49m\u001b[38;5;241;43m.\u001b[39;49m\u001b[43m_validate_data\u001b[49m\u001b[43m(\u001b[49m\n\u001b[0;32m   1489\u001b[0m \u001b[43m    \u001b[49m\u001b[43mX\u001b[49m\u001b[43m,\u001b[49m\n\u001b[0;32m   1490\u001b[0m \u001b[43m    \u001b[49m\u001b[43maccept_sparse\u001b[49m\u001b[38;5;241;43m=\u001b[39;49m\u001b[38;5;124;43m\"\u001b[39;49m\u001b[38;5;124;43mcsc\u001b[39;49m\u001b[38;5;124;43m\"\u001b[39;49m\u001b[43m,\u001b[49m\n\u001b[0;32m   1491\u001b[0m \u001b[43m    \u001b[49m\u001b[43mestimator\u001b[49m\u001b[38;5;241;43m=\u001b[39;49m\u001b[38;5;28;43mself\u001b[39;49m\u001b[43m,\u001b[49m\n\u001b[0;32m   1492\u001b[0m \u001b[43m    \u001b[49m\u001b[43mdtype\u001b[49m\u001b[38;5;241;43m=\u001b[39;49m\u001b[43mFLOAT_DTYPES\u001b[49m\u001b[43m,\u001b[49m\n\u001b[0;32m   1493\u001b[0m \u001b[43m    \u001b[49m\u001b[43mforce_all_finite\u001b[49m\u001b[38;5;241;43m=\u001b[39;49m\u001b[38;5;124;43m\"\u001b[39;49m\u001b[38;5;124;43mallow-nan\u001b[39;49m\u001b[38;5;124;43m\"\u001b[39;49m\u001b[43m,\u001b[49m\n\u001b[0;32m   1494\u001b[0m \u001b[43m\u001b[49m\u001b[43m)\u001b[49m\n\u001b[0;32m   1496\u001b[0m q_min, q_max \u001b[38;5;241m=\u001b[39m \u001b[38;5;28mself\u001b[39m\u001b[38;5;241m.\u001b[39mquantile_range\n\u001b[0;32m   1497\u001b[0m \u001b[38;5;28;01mif\u001b[39;00m \u001b[38;5;129;01mnot\u001b[39;00m \u001b[38;5;241m0\u001b[39m \u001b[38;5;241m<\u001b[39m\u001b[38;5;241m=\u001b[39m q_min \u001b[38;5;241m<\u001b[39m\u001b[38;5;241m=\u001b[39m q_max \u001b[38;5;241m<\u001b[39m\u001b[38;5;241m=\u001b[39m \u001b[38;5;241m100\u001b[39m:\n",
      "File \u001b[1;32mC:\\Anaconda\\lib\\site-packages\\sklearn\\base.py:566\u001b[0m, in \u001b[0;36mBaseEstimator._validate_data\u001b[1;34m(self, X, y, reset, validate_separately, **check_params)\u001b[0m\n\u001b[0;32m    564\u001b[0m     \u001b[38;5;28;01mraise\u001b[39;00m \u001b[38;5;167;01mValueError\u001b[39;00m(\u001b[38;5;124m\"\u001b[39m\u001b[38;5;124mValidation should be done on X, y or both.\u001b[39m\u001b[38;5;124m\"\u001b[39m)\n\u001b[0;32m    565\u001b[0m \u001b[38;5;28;01melif\u001b[39;00m \u001b[38;5;129;01mnot\u001b[39;00m no_val_X \u001b[38;5;129;01mand\u001b[39;00m no_val_y:\n\u001b[1;32m--> 566\u001b[0m     X \u001b[38;5;241m=\u001b[39m check_array(X, \u001b[38;5;241m*\u001b[39m\u001b[38;5;241m*\u001b[39mcheck_params)\n\u001b[0;32m    567\u001b[0m     out \u001b[38;5;241m=\u001b[39m X\n\u001b[0;32m    568\u001b[0m \u001b[38;5;28;01melif\u001b[39;00m no_val_X \u001b[38;5;129;01mand\u001b[39;00m \u001b[38;5;129;01mnot\u001b[39;00m no_val_y:\n",
      "File \u001b[1;32mC:\\Anaconda\\lib\\site-packages\\sklearn\\utils\\validation.py:769\u001b[0m, in \u001b[0;36mcheck_array\u001b[1;34m(array, accept_sparse, accept_large_sparse, dtype, order, copy, force_all_finite, ensure_2d, allow_nd, ensure_min_samples, ensure_min_features, estimator)\u001b[0m\n\u001b[0;32m    767\u001b[0m     \u001b[38;5;66;03m# If input is 1D raise error\u001b[39;00m\n\u001b[0;32m    768\u001b[0m     \u001b[38;5;28;01mif\u001b[39;00m array\u001b[38;5;241m.\u001b[39mndim \u001b[38;5;241m==\u001b[39m \u001b[38;5;241m1\u001b[39m:\n\u001b[1;32m--> 769\u001b[0m         \u001b[38;5;28;01mraise\u001b[39;00m \u001b[38;5;167;01mValueError\u001b[39;00m(\n\u001b[0;32m    770\u001b[0m             \u001b[38;5;124m\"\u001b[39m\u001b[38;5;124mExpected 2D array, got 1D array instead:\u001b[39m\u001b[38;5;130;01m\\n\u001b[39;00m\u001b[38;5;124marray=\u001b[39m\u001b[38;5;132;01m{}\u001b[39;00m\u001b[38;5;124m.\u001b[39m\u001b[38;5;130;01m\\n\u001b[39;00m\u001b[38;5;124m\"\u001b[39m\n\u001b[0;32m    771\u001b[0m             \u001b[38;5;124m\"\u001b[39m\u001b[38;5;124mReshape your data either using array.reshape(-1, 1) if \u001b[39m\u001b[38;5;124m\"\u001b[39m\n\u001b[0;32m    772\u001b[0m             \u001b[38;5;124m\"\u001b[39m\u001b[38;5;124myour data has a single feature or array.reshape(1, -1) \u001b[39m\u001b[38;5;124m\"\u001b[39m\n\u001b[0;32m    773\u001b[0m             \u001b[38;5;124m\"\u001b[39m\u001b[38;5;124mif it contains a single sample.\u001b[39m\u001b[38;5;124m\"\u001b[39m\u001b[38;5;241m.\u001b[39mformat(array)\n\u001b[0;32m    774\u001b[0m         )\n\u001b[0;32m    776\u001b[0m \u001b[38;5;66;03m# make sure we actually converted to numeric:\u001b[39;00m\n\u001b[0;32m    777\u001b[0m \u001b[38;5;28;01mif\u001b[39;00m dtype_numeric \u001b[38;5;129;01mand\u001b[39;00m array\u001b[38;5;241m.\u001b[39mdtype\u001b[38;5;241m.\u001b[39mkind \u001b[38;5;129;01min\u001b[39;00m \u001b[38;5;124m\"\u001b[39m\u001b[38;5;124mOUSV\u001b[39m\u001b[38;5;124m\"\u001b[39m:\n",
      "\u001b[1;31mValueError\u001b[0m: Expected 2D array, got 1D array instead:\narray=[1463. 1463. 1468. ... 1459. 1469. 1462.].\nReshape your data either using array.reshape(-1, 1) if your data has a single feature or array.reshape(1, -1) if it contains a single sample."
     ]
    }
   ],
   "source": [
    "# n차 검사 통과 여부\n",
    "# 모든 값이 1임.\n",
    "x_train = x_train.drop(columns=x_name['n차 검사 통과 여부'])\n",
    "x_test = x_test.drop(columns=x_name['n차 검사 통과 여부'])\n",
    "\n",
    "# 방열 재료 n 무게\n",
    "# 'X_10','X_11'은 결측값이 절대 다수이고,\n",
    "# 결측값과 아닌 값 사이의 뚜렷한 차이가 나타나지 않음.\n",
    "x_train = x_train.drop(columns=['X_10','X_11'])\n",
    "x_test = x_test.drop(columns=['X_10','X_11'])\n",
    "\n",
    "# 실란트 본드 소요량\n",
    "# 'X_46'은 예측하려는 값이나 다른 X값보다 그 크기가 훨씬 크다.\n",
    "from sklearn.preprocessing import RobustScaler\n",
    "\n",
    "transformer = RobustScaler().fit(x_train[['X_46']])\n",
    "x_train['X_46'] = transformer.transform(x_train[['X_46']])\n",
    "x_test['X_46'] = transformer.transform(x_test[['X_46']])\n",
    "\n",
    "print(x_train['X_46'])"
   ]
  },
  {
   "cell_type": "code",
   "execution_count": null,
   "id": "b9a08990",
   "metadata": {
    "id": "b9a08990"
   },
   "outputs": [],
   "source": [
    "import xgboost as xgb\n",
    "from sklearn.multioutput import MultiOutputRegressor\n",
    "import time\n",
    "\n",
    "start_t = time.time()\n",
    "\n",
    "###\n",
    "xgb_model = xgb.XGBRegressor(objective='reg:squarederror', n_estimators=1000, learning_rate=0.1, max_depth=7)\n",
    "model = MultiOutputRegressor(xgb_model)\n",
    "model.fit(x_train, y_train)\n",
    "y_pred = model.predict(x_test)\n",
    "###\n",
    "y_pred\n",
    "\n",
    "end_t = time.time()\n",
    "t = time.gmtime(end_t - start_t)\n",
    "print(f\"[Training time] => {t.tm_min}(min) {t.tm_sec}(sec)\")"
   ]
  },
  {
   "cell_type": "code",
   "execution_count": null,
   "id": "aae3b768",
   "metadata": {
    "id": "aae3b768"
   },
   "outputs": [],
   "source": [
    "visual.pred_visualize(origin_train.filter(regex='Y'), y_pred)"
   ]
  },
  {
   "cell_type": "code",
   "execution_count": null,
   "id": "3d693310",
   "metadata": {
    "id": "3d693310"
   },
   "outputs": [],
   "source": [
    "for idx, col in enumerate(submission.columns):\n",
    "    if col == 'ID':\n",
    "        continue\n",
    "    submission[col] = y_pred[:, idx-1]\n",
    "\n",
    "submission.to_csv(f\"submissions/{time.asctime().replace(':', '-')}.csv\", index=False)\n",
    "print('Done.')"
   ]
  }
 ],
 "metadata": {
  "accelerator": "GPU",
  "colab": {
   "collapsed_sections": [],
   "name": "main.ipynb",
   "provenance": []
  },
  "gpuClass": "standard",
  "kernelspec": {
   "display_name": "Python 3 (ipykernel)",
   "language": "python",
   "name": "python3"
  },
  "language_info": {
   "codemirror_mode": {
    "name": "ipython",
    "version": 3
   },
   "file_extension": ".py",
   "mimetype": "text/x-python",
   "name": "python",
   "nbconvert_exporter": "python",
   "pygments_lexer": "ipython3",
   "version": "3.9.12"
  }
 },
 "nbformat": 4,
 "nbformat_minor": 5
}

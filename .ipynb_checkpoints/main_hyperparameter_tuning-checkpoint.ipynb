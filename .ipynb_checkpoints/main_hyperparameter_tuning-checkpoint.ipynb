{
 "cells": [
  {
   "cell_type": "code",
   "execution_count": 1,
   "id": "1U2U_p71Uga5",
   "metadata": {
    "colab": {
     "base_uri": "https://localhost:8080/"
    },
    "executionInfo": {
     "elapsed": 6404,
     "status": "ok",
     "timestamp": 1660064651938,
     "user": {
      "displayName": "성진규",
      "userId": "05771767087170578556"
     },
     "user_tz": -540
    },
    "id": "1U2U_p71Uga5",
    "outputId": "1fbb2f1f-51e8-4b12-f3fa-092448b680e3"
   },
   "outputs": [],
   "source": [
    "# # Colab execute.\n",
    "# from google.colab import drive\n",
    "\n",
    "\n",
    "# drive.mount('/content/drive')\n",
    "# _path = '/content/drive/MyDrive/antenna-performance-prediction/antenna-performance-prediction'\n",
    "# %cd /content/drive/MyDrive/antenna-performance-prediction/antenna-performance-prediction/"
   ]
  },
  {
   "cell_type": "code",
   "execution_count": 2,
   "id": "a8823aa6",
   "metadata": {
    "colab": {
     "base_uri": "https://localhost:8080/"
    },
    "executionInfo": {
     "elapsed": 9888,
     "status": "ok",
     "timestamp": 1660064661820,
     "user": {
      "displayName": "성진규",
      "userId": "05771767087170578556"
     },
     "user_tz": -540
    },
    "id": "a8823aa6",
    "outputId": "20b78925-202e-40a0-e058-f30e399d19d3"
   },
   "outputs": [
    {
     "ename": "ImportError",
     "evalue": "cannot import name 'mean_squared_error' from 'sklearn.model_selection' (C:\\Anaconda\\lib\\site-packages\\sklearn\\model_selection\\__init__.py)",
     "output_type": "error",
     "traceback": [
      "\u001b[1;31m---------------------------------------------------------------------------\u001b[0m",
      "\u001b[1;31mImportError\u001b[0m                               Traceback (most recent call last)",
      "Input \u001b[1;32mIn [2]\u001b[0m, in \u001b[0;36m<cell line: 11>\u001b[1;34m()\u001b[0m\n\u001b[0;32m      9\u001b[0m \u001b[38;5;28;01mfrom\u001b[39;00m \u001b[38;5;21;01mbayes_opt\u001b[39;00m \u001b[38;5;28;01mimport\u001b[39;00m BayesianOptimization\n\u001b[0;32m     10\u001b[0m \u001b[38;5;28;01mfrom\u001b[39;00m \u001b[38;5;21;01msklearn\u001b[39;00m\u001b[38;5;21;01m.\u001b[39;00m\u001b[38;5;21;01mmodel_selection\u001b[39;00m \u001b[38;5;28;01mimport\u001b[39;00m train_test_split\n\u001b[1;32m---> 11\u001b[0m \u001b[38;5;28;01mfrom\u001b[39;00m \u001b[38;5;21;01msklearn\u001b[39;00m\u001b[38;5;21;01m.\u001b[39;00m\u001b[38;5;21;01mmodel_selection\u001b[39;00m \u001b[38;5;28;01mimport\u001b[39;00m mean_squared_error\n\u001b[0;32m     13\u001b[0m \u001b[38;5;28;01mfrom\u001b[39;00m \u001b[38;5;21;01mmylibrary\u001b[39;00m \u001b[38;5;28;01mimport\u001b[39;00m manipulation\n\u001b[0;32m     14\u001b[0m \u001b[38;5;28;01mfrom\u001b[39;00m \u001b[38;5;21;01mmylibrary\u001b[39;00m \u001b[38;5;28;01mimport\u001b[39;00m visualization \u001b[38;5;28;01mas\u001b[39;00m visual\n",
      "\u001b[1;31mImportError\u001b[0m: cannot import name 'mean_squared_error' from 'sklearn.model_selection' (C:\\Anaconda\\lib\\site-packages\\sklearn\\model_selection\\__init__.py)"
     ]
    }
   ],
   "source": [
    "import time\n",
    "import pandas as pd\n",
    "import numpy as np\n",
    "\n",
    "from sklearn.ensemble import RandomForestRegressor\n",
    "from sklearn.multioutput import MultiOutputRegressor\n",
    "from sklearn.multioutput import RegressorChain\n",
    "\n",
    "from bayes_opt import BayesianOptimization\n",
    "from sklearn.model_selection import train_test_split\n",
    "from sklearn.metrics import mean_squared_error\n",
    "\n",
    "from mylibrary import manipulation\n",
    "from mylibrary import visualization as visual\n",
    "\n",
    "# Local execute.\n",
    "origin_train = pd.read_csv('dataset/train.csv')\n",
    "origin_test = pd.read_csv('dataset/test.csv')\n",
    "x_info = pd.read_csv('dataset/meta/x_feature_info.csv')\n",
    "y_info = pd.read_csv('dataset/meta/y_feature_info.csv')\n",
    "submission = pd.read_csv(\"dataset/sample_submission.csv\")\n",
    "\n",
    "# Colab execute.\n",
    "# origin_train = pd.read_csv(f'{_path}/dataset/train.csv')\n",
    "# origin_test = pd.read_csv(f'{_path}/dataset/test.csv')\n",
    "# x_info = pd.read_csv(f'{_path}/dataset/meta/x_feature_info.csv')\n",
    "# y_info = pd.read_csv(f'{_path}/dataset/meta/y_feature_info.csv')\n",
    "# submission = pd.read_csv(f'{_path}/dataset/sample_submission.csv')\n",
    "\n",
    "\n",
    "x_train = origin_train.filter(regex='X')\n",
    "y_train = origin_train.filter(regex='Y')\n",
    "\n",
    "x_test = origin_test.drop(columns=['ID'])\n",
    "\n",
    "x_name = manipulation.make_namegroup(x_train, x_info)\n",
    "y_name = manipulation.make_namegroup(y_train, y_info)\n",
    "\n",
    "visual.print_namegroup(x_name)\n",
    "print()\n",
    "visual.print_namegroup(y_name)"
   ]
  },
  {
   "cell_type": "code",
   "execution_count": null,
   "id": "a30bee35",
   "metadata": {
    "executionInfo": {
     "elapsed": 15,
     "status": "ok",
     "timestamp": 1660064661822,
     "user": {
      "displayName": "성진규",
      "userId": "05771767087170578556"
     },
     "user_tz": -540
    },
    "id": "a30bee35"
   },
   "outputs": [],
   "source": [
    "from sklearn.preprocessing import RobustScaler\n",
    "\n",
    "\n",
    "# n차 검사 통과 여부\n",
    "# 모든 값이 1임.\n",
    "x_train = x_train.drop(columns=x_name['n차 검사 통과 여부'])\n",
    "x_test = x_test.drop(columns=x_name['n차 검사 통과 여부'])\n",
    "\n",
    "# 방열 재료 n 무게\n",
    "# 'X_10','X_11'은 결측값이 절대 다수이고,\n",
    "# 결측값과 아닌 값 사이의 뚜렷한 차이가 나타나지 않음.\n",
    "x_train = x_train.drop(columns=['X_10','X_11'])\n",
    "x_test = x_test.drop(columns=['X_10','X_11'])"
   ]
  },
  {
   "cell_type": "code",
   "execution_count": null,
   "id": "3ee395b8",
   "metadata": {},
   "outputs": [],
   "source": [
    "pd.DataFrame(x_train)"
   ]
  },
  {
   "cell_type": "code",
   "execution_count": null,
   "id": "e77b1255",
   "metadata": {},
   "outputs": [],
   "source": [
    "x_test"
   ]
  },
  {
   "cell_type": "markdown",
   "id": "f58ecc97",
   "metadata": {},
   "source": [
    "### Reference\n",
    "[Comparing random forests and the multi-output meta estimator](https://scikit-learn.org/stable/auto_examples/ensemble/plot_random_forest_regression_multioutput.html#sphx-glr-auto-examples-ensemble-plot-random-forest-regression-multioutput-py)  \n",
    "[Multiclass and multioutput algorithms](https://scikit-learn.org/stable/modules/multiclass.html#regressorchain)"
   ]
  },
  {
   "cell_type": "code",
   "execution_count": null,
   "id": "b9a08990",
   "metadata": {
    "id": "b9a08990"
   },
   "outputs": [],
   "source": [
    "start_t = time.time()\n",
    "\n",
    "\n",
    "def lg_nrmse(gt, preds):\n",
    "    # 각 Y Feature별 NRMSE 총합\n",
    "    # Y_01 ~ Y_08 까지 20% 가중치 부여\n",
    "    all_nrmse = []\n",
    "    for idx in range(1, 15): # ignore 'ID'\n",
    "        rmse = mean_squared_error(gt[:,idx], preds[:,idx], squared=False)\n",
    "        nrmse = rmse/np.mean(np.abs(gt[:,idx]))\n",
    "        all_nrmse.append(nrmse)\n",
    "    score = 1.2 * np.sum(all_nrmse[:8]) + 1.0 * np.sum(all_nrmse[8:14])\n",
    "    return score\n",
    "\n",
    "\n",
    "def rf_cv(n_estimators=100, max_depth=None, min_samples_split=2, min_samples_leaf=1, min_weight_fraction_leaf=0.0, max_features=1.0, max_leaf_nodes=None):\n",
    "    \n",
    "    model = RandomForestRegressor(\n",
    "        n_estimators=int(n_estimators),\n",
    "        max_depth=int(max_depth),\n",
    "        min_samples_split=min_samples_split,\n",
    "        min_samples_leaf=min_samples_leaf,\n",
    "        min_weight_fraction_leaf=min_weight_fraction_leaf,\n",
    "        max_features=max_features,\n",
    "        max_leaf_nodes=max_leaf_nodes,\n",
    "    )\n",
    "\n",
    "    model.fit(x_t, y_t)\n",
    "    y_pred = model.predict(x_eval)\n",
    "\n",
    "    error = lg_nrmse(y_eval, y_pred)\n",
    "    return -1 * error\n",
    "\n",
    "\n",
    "x_t, x_eval, y_t, y_eval = train_test_split(x_train, y_train, test_size=0.33, random_state=42)\n",
    "\n",
    "pbounds = {\n",
    "    'n_estimators':(10, 100),\n",
    "    'max_depth':(1, 100),\n",
    "#     'min_samples_split':,\n",
    "#     'min_samples_leat':,\n",
    "#     'min_weight_fraction_leaf':,\n",
    "#     'max_features':,\n",
    "#     'max_leaf_nodes':\n",
    "}\n",
    "\n",
    "bo = BayesianOptimization(f=rf_cv, pbounds=pbounds, verbose=2, random_state=1)\n",
    "bo.maximize(init_points=2, n_iter=10, acq='ei', xi=0.01)\n",
    "print(bo.max)\n",
    "\n",
    "end_t = time.time()\n",
    "t = time.gmtime(end_t - start_t)\n",
    "print(f\"[Training time] => {t.tm_min}(min) {t.tm_sec}(sec)\")"
   ]
  },
  {
   "cell_type": "code",
   "execution_count": null,
   "id": "aae3b768",
   "metadata": {
    "id": "aae3b768"
   },
   "outputs": [],
   "source": [
    "#visual.show_pred(origin_train.filter(regex='Y'), y_pred)"
   ]
  },
  {
   "cell_type": "code",
   "execution_count": null,
   "id": "3d693310",
   "metadata": {
    "id": "3d693310"
   },
   "outputs": [],
   "source": [
    "for idx, col in enumerate(submission.columns):\n",
    "    if col == 'ID':\n",
    "        continue\n",
    "    submission[col] = y_pred[:, idx-1]\n",
    "    \n",
    "\n",
    "submission.to_csv(f\"submissions/{time.asctime().replace(':', '-')}.csv\", index=False)\n",
    "print('Done.')"
   ]
  }
 ],
 "metadata": {
  "accelerator": "GPU",
  "colab": {
   "collapsed_sections": [],
   "name": "main.ipynb",
   "provenance": []
  },
  "gpuClass": "standard",
  "kernelspec": {
   "display_name": "Python 3 (ipykernel)",
   "language": "python",
   "name": "python3"
  },
  "language_info": {
   "codemirror_mode": {
    "name": "ipython",
    "version": 3
   },
   "file_extension": ".py",
   "mimetype": "text/x-python",
   "name": "python",
   "nbconvert_exporter": "python",
   "pygments_lexer": "ipython3",
   "version": "3.9.12"
  }
 },
 "nbformat": 4,
 "nbformat_minor": 5
}

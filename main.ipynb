{
 "cells": [
  {
   "cell_type": "code",
   "execution_count": 1,
   "id": "1U2U_p71Uga5",
   "metadata": {
    "colab": {
     "base_uri": "https://localhost:8080/"
    },
    "executionInfo": {
     "elapsed": 6404,
     "status": "ok",
     "timestamp": 1660064651938,
     "user": {
      "displayName": "성진규",
      "userId": "05771767087170578556"
     },
     "user_tz": -540
    },
    "id": "1U2U_p71Uga5",
    "outputId": "1fbb2f1f-51e8-4b12-f3fa-092448b680e3"
   },
   "outputs": [],
   "source": [
    "# # Colab execute.\n",
    "# from google.colab import drive\n",
    "\n",
    "\n",
    "# drive.mount('/content/drive')\n",
    "# _path = '/content/drive/MyDrive/antenna-performance-prediction/antenna-performance-prediction'\n",
    "# %cd /content/drive/MyDrive/antenna-performance-prediction/antenna-performance-prediction/"
   ]
  },
  {
   "cell_type": "code",
   "execution_count": 2,
   "id": "a8823aa6",
   "metadata": {
    "colab": {
     "base_uri": "https://localhost:8080/"
    },
    "executionInfo": {
     "elapsed": 9888,
     "status": "ok",
     "timestamp": 1660064661820,
     "user": {
      "displayName": "성진규",
      "userId": "05771767087170578556"
     },
     "user_tz": -540
    },
    "id": "a8823aa6",
    "outputId": "20b78925-202e-40a0-e058-f30e399d19d3"
   },
   "outputs": [
    {
     "name": "stdout",
     "output_type": "stream",
     "text": [
      "PCB 체결 시 단계별 누름량(Step n): X_01  X_02  X_05  X_06\n",
      "방열 재료 n 무게: X_03  X_10  X_11\n",
      "n차 검사 통과 여부: X_04  X_23  X_47  X_48\n",
      "방열 재료 n 면적: X_07  X_08  X_09\n",
      "커넥터 위치 기준 좌표: X_12\n",
      "각 안테나 패드 위치(높이) 차이: X_13\n",
      "n번 안테나 패드 위치: X_14  X_15  X_16  X_17  X_18\n",
      "n번 스크류 삽입 깊이: X_19  X_20  X_21  X_22\n",
      "커넥터 n번 핀 치수: X_24  X_25  X_26  X_27  X_28  X_29\n",
      "스크류 삽입 깊이n: X_30  X_31  X_32  X_33\n",
      "스크류 체결 시 분당 회전수 n: X_34  X_35  X_36  X_37\n",
      "하우징 PCB 안착부 n 치수: X_38  X_39  X_40\n",
      "레이돔 치수 (안테나 n번 부위): X_41  X_42  X_43  X_44\n",
      "안테나 부분 레이돔 기울기: X_45\n",
      "실란트 본드 소요량: X_46\n",
      "Cal 투입 전 대기 시간: X_49\n",
      "RFn 부분 SMT 납 량: X_50  X_51  X_52  X_53  X_54  X_55  X_56\n",
      "\n",
      "안테나 Gain 평균 (각도n): Y_01  Y_05  Y_07  Y_11\n",
      "안테나 n Gain 편차: Y_02  Y_03\n",
      "평균 신호대 잡음비: Y_04\n",
      "신호대 잡음비 (각도n): Y_06  Y_08  Y_09  Y_10  Y_12  Y_13  Y_14\n"
     ]
    }
   ],
   "source": [
    "import pandas as pd\n",
    "from mylibrary import manipulation\n",
    "from mylibrary import visualization as visual\n",
    "\n",
    "# Local execute.\n",
    "origin_train = pd.read_csv('dataset/train.csv')\n",
    "origin_test = pd.read_csv('dataset/test.csv')\n",
    "x_info = pd.read_csv('dataset/meta/x_feature_info.csv')\n",
    "y_info = pd.read_csv('dataset/meta/y_feature_info.csv')\n",
    "submission = pd.read_csv(\"dataset/sample_submission.csv\")\n",
    "\n",
    "# Colab execute.\n",
    "# origin_train = pd.read_csv(f'{_path}/dataset/train.csv')\n",
    "# origin_test = pd.read_csv(f'{_path}/dataset/test.csv')\n",
    "# x_info = pd.read_csv(f'{_path}/dataset/meta/x_feature_info.csv')\n",
    "# y_info = pd.read_csv(f'{_path}/dataset/meta/y_feature_info.csv')\n",
    "# submission = pd.read_csv(f'{_path}/dataset/sample_submission.csv')\n",
    "\n",
    "\n",
    "x_train = origin_train.filter(regex='X')\n",
    "y_train = origin_train.filter(regex='Y')\n",
    "\n",
    "x_test = origin_test.drop(columns=['ID'])\n",
    "\n",
    "x_name = manipulation.make_namegroup(x_train, x_info)\n",
    "y_name = manipulation.make_namegroup(y_train, y_info)\n",
    "\n",
    "visual.print_namegroup(x_name)\n",
    "print()\n",
    "visual.print_namegroup(y_name)"
   ]
  },
  {
   "cell_type": "code",
   "execution_count": 3,
   "id": "a30bee35",
   "metadata": {
    "executionInfo": {
     "elapsed": 15,
     "status": "ok",
     "timestamp": 1660064661822,
     "user": {
      "displayName": "성진규",
      "userId": "05771767087170578556"
     },
     "user_tz": -540
    },
    "id": "a30bee35"
   },
   "outputs": [],
   "source": [
    "# n차 검사 통과 여부\n",
    "# 모든 값이 1임.\n",
    "x_train = x_train.drop(columns=x_name['n차 검사 통과 여부'])\n",
    "x_test = x_test.drop(columns=x_name['n차 검사 통과 여부'])\n",
    "\n",
    "# 방열 재료 n 무게\n",
    "# 'X_10','X_11'은 결측값이 절대 다수이고,\n",
    "# 결측값과 아닌 값 사이의 뚜렷한 차이가 나타나지 않음.\n",
    "x_train = x_train.drop(columns=['X_10','X_11'])\n",
    "x_test = x_test.drop(columns=['X_10','X_11'])"
   ]
  },
  {
   "cell_type": "code",
   "execution_count": null,
   "id": "b9a08990",
   "metadata": {
    "id": "b9a08990"
   },
   "outputs": [],
   "source": [
    "import xgboost as xgb\n",
    "from sklearn.multioutput import MultiOutputRegressor\n",
    "import time\n",
    "\n",
    "start_t = time.time()\n",
    "\n",
    "###\n",
    "xgb_model = xgb.XGBRegressor(objective='reg:squarederror', n_estimators=1000, learning_rate=0.1, max_depth=7)\n",
    "model = MultiOutputRegressor(xgb_model)\n",
    "model.fit(x_train, y_train)\n",
    "y_pred = model.predict(x_test)\n",
    "###\n",
    "y_pred\n",
    "\n",
    "end_t = time.time()\n",
    "t = time.gmtime(end_t - start_t)\n",
    "print(f\"[Training time] => {t.tm_min}(min) {t.tm_sec}(sec)\")"
   ]
  },
  {
   "cell_type": "code",
   "execution_count": null,
   "id": "aae3b768",
   "metadata": {
    "id": "aae3b768"
   },
   "outputs": [],
   "source": [
    "visual.pred_visualize(origin_train.filter(regex='Y'), y_pred)"
   ]
  },
  {
   "cell_type": "code",
   "execution_count": null,
   "id": "3d693310",
   "metadata": {
    "id": "3d693310"
   },
   "outputs": [],
   "source": [
    "for idx, col in enumerate(submission.columns):\n",
    "    if col == 'ID':\n",
    "        continue\n",
    "    submission[col] = y_pred[:, idx-1]\n",
    "\n",
    "submission.to_csv(f\"submissions/{time.asctime().replace(':', '-')}.csv\", index=False)\n",
    "print('Done.')"
   ]
  }
 ],
 "metadata": {
  "accelerator": "GPU",
  "colab": {
   "collapsed_sections": [],
   "name": "main.ipynb",
   "provenance": []
  },
  "gpuClass": "standard",
  "kernelspec": {
   "display_name": "Python 3 (ipykernel)",
   "language": "python",
   "name": "python3"
  },
  "language_info": {
   "codemirror_mode": {
    "name": "ipython",
    "version": 3
   },
   "file_extension": ".py",
   "mimetype": "text/x-python",
   "name": "python",
   "nbconvert_exporter": "python",
   "pygments_lexer": "ipython3",
   "version": "3.9.12"
  }
 },
 "nbformat": 4,
 "nbformat_minor": 5
}

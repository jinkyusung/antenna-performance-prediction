{
 "cells": [
  {
   "cell_type": "code",
   "execution_count": 6,
   "id": "bbb28b0f",
   "metadata": {},
   "outputs": [
    {
     "ename": "SyntaxError",
     "evalue": "invalid syntax (3206006268.py, line 20)",
     "output_type": "error",
     "traceback": [
      "\u001b[1;36m  Input \u001b[1;32mIn [6]\u001b[1;36m\u001b[0m\n\u001b[1;33m    f2 = feature[feature['X_49'] < 100000 && feature['X_49'] > 75000]\u001b[0m\n\u001b[1;37m                                           ^\u001b[0m\n\u001b[1;31mSyntaxError\u001b[0m\u001b[1;31m:\u001b[0m invalid syntax\n"
     ]
    }
   ],
   "source": [
    "import pandas as pd\n",
    "import sys\n",
    "import seaborn as sns\n",
    "import matplotlib.pyplot as plt\n",
    "\n",
    "\n",
    "sys.path.append('..')\n",
    "from mylibrary import visualization as visual\n",
    "\n",
    "\n",
    "x_feature = pd.read_csv('../dataset/x_feature/Cal 투입 전 대기 시간.csv')\n",
    "y_feature = pd.read_csv('../dataset/train.csv').filter(regex='Y')\n",
    "feature = pd.concat([x_feature, y_feature], axis=1)\n",
    "\n",
    "# print(feature)\n",
    "visual.show_plot(x_feature)\n",
    "\n",
    "\n",
    "f1 = feature[feature['X_49'] > 100000]\n",
    "f2 = feature[(feature['X_49'] < 100000) && (feature['X_49'] > 75000)]\n",
    "visual.x_to_y_visualize(feature['X_49'], y_feature)\n",
    "\n",
    "\n",
    "print(pd.concat([f1.describe().loc['mean'], f2.describe().loc['mean']], axis=1))\n",
    "\n",
    "# visual.x_to_y_visualize(feature['X_03'], y_feature)\n",
    "# visual.x_to_y_visualize(feature['X_10'], y_feature)\n",
    "# visual.x_to_y_visualize(feature['X_11'], y_feature)"
   ]
  }
 ],
 "metadata": {
  "kernelspec": {
   "display_name": "Python 3 (ipykernel)",
   "language": "python",
   "name": "python3"
  },
  "language_info": {
   "codemirror_mode": {
    "name": "ipython",
    "version": 3
   },
   "file_extension": ".py",
   "mimetype": "text/x-python",
   "name": "python",
   "nbconvert_exporter": "python",
   "pygments_lexer": "ipython3",
   "version": "3.9.12"
  }
 },
 "nbformat": 4,
 "nbformat_minor": 5
}

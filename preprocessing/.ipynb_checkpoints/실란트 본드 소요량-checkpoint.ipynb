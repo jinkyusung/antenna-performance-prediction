{
 "cells": [
  {
   "cell_type": "code",
   "execution_count": 5,
   "id": "7fafc729",
   "metadata": {},
   "outputs": [
    {
     "data": {
      "text/plain": [
       "(array([  180.,     0.,   197.,     0.,     0.,   259.,     0.,   305.,\n",
       "            0.,     0.,   308.,     0.,   365.,     0.,     0.,   549.,\n",
       "            0.,   780.,     0.,     0.,   881.,     0.,   610.,     0.,\n",
       "            0.,   389.,     0.,   696.,     0., 34088.]),\n",
       " array([1457. , 1457.4, 1457.8, 1458.2, 1458.6, 1459. , 1459.4, 1459.8,\n",
       "        1460.2, 1460.6, 1461. , 1461.4, 1461.8, 1462.2, 1462.6, 1463. ,\n",
       "        1463.4, 1463.8, 1464.2, 1464.6, 1465. , 1465.4, 1465.8, 1466.2,\n",
       "        1466.6, 1467. , 1467.4, 1467.8, 1468.2, 1468.6, 1469. ]),\n",
       " <BarContainer object of 30 artists>)"
      ]
     },
     "execution_count": 5,
     "metadata": {},
     "output_type": "execute_result"
    },
    {
     "data": {
      "image/png": "[encoded data removed]",
      "text/plain": [
       "<Figure size 432x288 with 1 Axes>"
      ]
     },
     "metadata": {
      "needs_background": "light"
     },
     "output_type": "display_data"
    }
   ],
   "source": [
    "import pandas as pd\n",
    "import sys\n",
    "import seaborn as sns\n",
    "import matplotlib.pyplot as plt\n",
    "\n",
    "\n",
    "sys.path.append('..')\n",
    "from mylibrary import visualization as visual\n",
    "\n",
    "\n",
    "x_feature = pd.read_csv('../dataset/x_feature/실란트 본드 소요량.csv')\n",
    "y_feature = pd.read_csv('../dataset/train.csv').filter(regex='Y')\n",
    "feature = pd.concat([x_feature, y_feature], axis=1)\n",
    "\n",
    "plt.hist(x_feature, bins=30, color= 'red', alpha = 0.7)"
   ]
  },
  {
   "cell_type": "code",
   "execution_count": 6,
   "id": "0a892848",
   "metadata": {},
   "outputs": [
    {
     "data": {
      "text/plain": [
       "(array([  180.,     0.,   197.,     0.,     0.,   259.,     0.,   305.,\n",
       "            0.,     0.,   308.,     0.,   365.,     0.,     0.,   549.,\n",
       "            0.,   780.,     0.,     0.,   881.,     0.,   610.,     0.,\n",
       "            0.,   389.,     0.,   696.,     0., 34088.]),\n",
       " array([-12. , -11.6, -11.2, -10.8, -10.4, -10. ,  -9.6,  -9.2,  -8.8,\n",
       "         -8.4,  -8. ,  -7.6,  -7.2,  -6.8,  -6.4,  -6. ,  -5.6,  -5.2,\n",
       "         -4.8,  -4.4,  -4. ,  -3.6,  -3.2,  -2.8,  -2.4,  -2. ,  -1.6,\n",
       "         -1.2,  -0.8,  -0.4,   0. ]),\n",
       " <BarContainer object of 30 artists>)"
      ]
     },
     "execution_count": 6,
     "metadata": {},
     "output_type": "execute_result"
    },
    {
     "data": {
      "image/png": "[encoded data removed]",
      "text/plain": [
       "<Figure size 432x288 with 1 Axes>"
      ]
     },
     "metadata": {
      "needs_background": "light"
     },
     "output_type": "display_data"
    }
   ],
   "source": [
    "from sklearn.preprocessing import RobustScaler\n",
    "\n",
    "\n",
    "transformer = RobustScaler().fit(x_feature)\n",
    "robust = transformer.transform(x_feature)\n",
    "plt.hist(robust, bins=30, color= 'red', alpha = 0.7)"
   ]
  },
  {
   "cell_type": "code",
   "execution_count": 7,
   "id": "7c4b4636",
   "metadata": {},
   "outputs": [
    {
     "data": {
      "text/plain": [
       "(array([  180.,     0.,   197.,     0.,     0.,   259.,     0.,   305.,\n",
       "            0.,     0.,   308.,     0.,   365.,     0.,     0.,   549.,\n",
       "            0.,   780.,     0.,     0.,   881.,     0.,   610.,     0.,\n",
       "            0.,   389.,     0.,   696.,     0., 34088.]),\n",
       " array([0.        , 0.03333333, 0.06666667, 0.1       , 0.13333333,\n",
       "        0.16666667, 0.2       , 0.23333333, 0.26666667, 0.3       ,\n",
       "        0.33333333, 0.36666667, 0.4       , 0.43333333, 0.46666667,\n",
       "        0.5       , 0.53333333, 0.56666667, 0.6       , 0.63333333,\n",
       "        0.66666667, 0.7       , 0.73333333, 0.76666667, 0.8       ,\n",
       "        0.83333333, 0.86666667, 0.9       , 0.93333333, 0.96666667,\n",
       "        1.        ]),\n",
       " <BarContainer object of 30 artists>)"
      ]
     },
     "execution_count": 7,
     "metadata": {},
     "output_type": "execute_result"
    },
    {
     "data": {
      "image/png": "[encoded data removed]",
      "text/plain": [
       "<Figure size 432x288 with 1 Axes>"
      ]
     },
     "metadata": {
      "needs_background": "light"
     },
     "output_type": "display_data"
    }
   ],
   "source": [
    "from sklearn.preprocessing import MinMaxScaler\n",
    "\n",
    "\n",
    "transformer = MinMaxScaler().fit(x_feature)\n",
    "minmax = transformer.transform(x_feature)\n",
    "plt.hist(minmax, bins=30, color= 'red', alpha = 0.7)"
   ]
  },
  {
   "cell_type": "code",
   "execution_count": 8,
   "id": "d884fd7c",
   "metadata": {},
   "outputs": [
    {
     "data": {
      "text/plain": [
       "(array([  180.,     0.,   197.,     0.,     0.,   259.,     0.,   305.,\n",
       "            0.,     0.,   308.,     0.,   365.,     0.,     0.,   549.,\n",
       "            0.,   780.,     0.,     0.,   881.,     0.,   610.,     0.,\n",
       "            0.,   389.,     0.,   696.,     0., 34088.]),\n",
       " array([-5.31480365, -5.12625695, -4.93771026, -4.74916356, -4.56061687,\n",
       "        -4.37207018, -4.18352348, -3.99497679, -3.80643009, -3.6178834 ,\n",
       "        -3.42933671, -3.24079001, -3.05224332, -2.86369662, -2.67514993,\n",
       "        -2.48660324, -2.29805654, -2.10950985, -1.92096315, -1.73241646,\n",
       "        -1.54386976, -1.35532307, -1.16677638, -0.97822968, -0.78968299,\n",
       "        -0.60113629, -0.4125896 , -0.22404291, -0.03549621,  0.15305048,\n",
       "         0.34159718]),\n",
       " <BarContainer object of 30 artists>)"
      ]
     },
     "execution_count": 8,
     "metadata": {},
     "output_type": "execute_result"
    },
    {
     "data": {
      "image/png": "[encoded data removed]",
      "text/plain": [
       "<Figure size 432x288 with 1 Axes>"
      ]
     },
     "metadata": {
      "needs_background": "light"
     },
     "output_type": "display_data"
    }
   ],
   "source": [
    "from sklearn.preprocessing import StandardScaler\n",
    "\n",
    "\n",
    "transformer = StandardScaler().fit(x_feature[['X_46']])\n",
    "std = transformer.transform(x_feature[['X_46']])\n",
    "plt.hist(std, bins=30, color= 'red', alpha = 0.7)\n",
    "plt.show()"
   ]
  }
 ],
 "metadata": {
  "kernelspec": {
   "display_name": "Python 3 (ipykernel)",
   "language": "python",
   "name": "python3"
  },
  "language_info": {
   "codemirror_mode": {
    "name": "ipython",
    "version": 3
   },
   "file_extension": ".py",
   "mimetype": "text/x-python",
   "name": "python",
   "nbconvert_exporter": "python",
   "pygments_lexer": "ipython3",
   "version": "3.9.12"
  }
 },
 "nbformat": 4,
 "nbformat_minor": 5
}

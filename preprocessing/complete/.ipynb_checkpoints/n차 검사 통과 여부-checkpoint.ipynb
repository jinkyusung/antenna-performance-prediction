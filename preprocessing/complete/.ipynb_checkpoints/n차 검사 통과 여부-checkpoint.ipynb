{
 "cells": [
  {
   "cell_type": "code",
   "execution_count": 1,
   "id": "91ae523b",
   "metadata": {},
   "outputs": [],
   "source": [
    "import sys\n",
    "\n",
    "sys.path.append('../..')"
   ]
  },
  {
   "cell_type": "code",
   "execution_count": 2,
   "id": "3e484056",
   "metadata": {},
   "outputs": [
    {
     "name": "stdout",
     "output_type": "stream",
     "text": [
      "[min]\n",
      "X_04    1.0\n",
      "X_23    1.0\n",
      "X_47    1.0\n",
      "X_48    1.0\n",
      "Name: min, dtype: float64\n",
      "\n",
      "[max]\n",
      "X_04    1.0\n",
      "X_23    1.0\n",
      "X_47    1.0\n",
      "X_48    1.0\n",
      "Name: max, dtype: float64\n"
     ]
    }
   ],
   "source": [
    "import pandas as pd\n",
    "\n",
    "\n",
    "feature = pd.read_csv('../../dataset/x_feature/n차 검사 통과 여부.csv')\n",
    "\n",
    "_min = feature.describe().loc['min', :]\n",
    "_max = feature.describe().loc['max', :]\n",
    "\n",
    "\n",
    "print(f'[min]\\n{_min}')\n",
    "print()\n",
    "print(f'[max]\\n{_max}')"
   ]
  },
  {
   "cell_type": "markdown",
   "id": "89f18ada",
   "metadata": {},
   "source": [
    "# Result\n",
    "delete `X_04`, `X_23`, `X_47`, `X_48`"
   ]
  }
 ],
 "metadata": {
  "kernelspec": {
   "display_name": "Python 3 (ipykernel)",
   "language": "python",
   "name": "python3"
  },
  "language_info": {
   "codemirror_mode": {
    "name": "ipython",
    "version": 3
   },
   "file_extension": ".py",
   "mimetype": "text/x-python",
   "name": "python",
   "nbconvert_exporter": "python",
   "pygments_lexer": "ipython3",
   "version": "3.9.12"
  }
 },
 "nbformat": 4,
 "nbformat_minor": 5
}

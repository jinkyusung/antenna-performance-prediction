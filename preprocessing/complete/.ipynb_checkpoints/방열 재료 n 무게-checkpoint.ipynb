{
 "cells": [
  {
   "cell_type": "code",
   "execution_count": 1,
   "id": "b7126eeb",
   "metadata": {},
   "outputs": [],
   "source": [
    "import sys\n",
    "\n",
    "sys.path.append('../..')"
   ]
  },
  {
   "cell_type": "code",
   "execution_count": 2,
   "id": "55053546",
   "metadata": {},
   "outputs": [
    {
     "data": {
      "text/html": [
       "<div>\n",
       "<style scoped>\n",
       "    .dataframe tbody tr th:only-of-type {\n",
       "        vertical-align: middle;\n",
       "    }\n",
       "\n",
       "    .dataframe tbody tr th {\n",
       "        vertical-align: top;\n",
       "    }\n",
       "\n",
       "    .dataframe thead th {\n",
       "        text-align: right;\n",
       "    }\n",
       "</style>\n",
       "<table border=\"1\" class=\"dataframe\">\n",
       "  <thead>\n",
       "    <tr style=\"text-align: right;\">\n",
       "      <th></th>\n",
       "      <th>X_03</th>\n",
       "      <th>X_10</th>\n",
       "      <th>X_11</th>\n",
       "    </tr>\n",
       "  </thead>\n",
       "  <tbody>\n",
       "    <tr>\n",
       "      <th>0</th>\n",
       "      <td>67.47</td>\n",
       "      <td>0.0</td>\n",
       "      <td>0.0</td>\n",
       "    </tr>\n",
       "    <tr>\n",
       "      <th>1</th>\n",
       "      <td>65.17</td>\n",
       "      <td>0.0</td>\n",
       "      <td>0.0</td>\n",
       "    </tr>\n",
       "    <tr>\n",
       "      <th>2</th>\n",
       "      <td>64.07</td>\n",
       "      <td>0.0</td>\n",
       "      <td>0.0</td>\n",
       "    </tr>\n",
       "    <tr>\n",
       "      <th>3</th>\n",
       "      <td>67.57</td>\n",
       "      <td>0.0</td>\n",
       "      <td>0.0</td>\n",
       "    </tr>\n",
       "    <tr>\n",
       "      <th>4</th>\n",
       "      <td>63.57</td>\n",
       "      <td>0.0</td>\n",
       "      <td>0.0</td>\n",
       "    </tr>\n",
       "    <tr>\n",
       "      <th>...</th>\n",
       "      <td>...</td>\n",
       "      <td>...</td>\n",
       "      <td>...</td>\n",
       "    </tr>\n",
       "    <tr>\n",
       "      <th>39602</th>\n",
       "      <td>62.27</td>\n",
       "      <td>0.0</td>\n",
       "      <td>0.0</td>\n",
       "    </tr>\n",
       "    <tr>\n",
       "      <th>39603</th>\n",
       "      <td>62.77</td>\n",
       "      <td>0.0</td>\n",
       "      <td>0.0</td>\n",
       "    </tr>\n",
       "    <tr>\n",
       "      <th>39604</th>\n",
       "      <td>64.67</td>\n",
       "      <td>0.0</td>\n",
       "      <td>0.0</td>\n",
       "    </tr>\n",
       "    <tr>\n",
       "      <th>39605</th>\n",
       "      <td>63.67</td>\n",
       "      <td>0.0</td>\n",
       "      <td>0.0</td>\n",
       "    </tr>\n",
       "    <tr>\n",
       "      <th>39606</th>\n",
       "      <td>65.67</td>\n",
       "      <td>0.0</td>\n",
       "      <td>0.0</td>\n",
       "    </tr>\n",
       "  </tbody>\n",
       "</table>\n",
       "<p>39607 rows × 3 columns</p>\n",
       "</div>"
      ],
      "text/plain": [
       "        X_03  X_10  X_11\n",
       "0      67.47   0.0   0.0\n",
       "1      65.17   0.0   0.0\n",
       "2      64.07   0.0   0.0\n",
       "3      67.57   0.0   0.0\n",
       "4      63.57   0.0   0.0\n",
       "...      ...   ...   ...\n",
       "39602  62.27   0.0   0.0\n",
       "39603  62.77   0.0   0.0\n",
       "39604  64.67   0.0   0.0\n",
       "39605  63.67   0.0   0.0\n",
       "39606  65.67   0.0   0.0\n",
       "\n",
       "[39607 rows x 3 columns]"
      ]
     },
     "execution_count": 2,
     "metadata": {},
     "output_type": "execute_result"
    }
   ],
   "source": [
    "import pandas as pd\n",
    "\n",
    "\n",
    "feature = pd.read_csv('../../dataset/x_feature/방열 재료 n 무게.csv')\n",
    "feature"
   ]
  },
  {
   "cell_type": "code",
   "execution_count": 3,
   "id": "503ba316",
   "metadata": {},
   "outputs": [
    {
     "name": "stdout",
     "output_type": "stream",
     "text": [
      "X_03: 0.0(%)\n",
      "X_10: 99.92(%)\n",
      "X_11: 99.93(%)\n"
     ]
    }
   ],
   "source": [
    "def missing_rate(column):\n",
    "    n = len(column)\n",
    "    miss = n - column.count()\n",
    "    return round(miss / n * 100, 2)\n",
    "\n",
    "feature = feature.replace(to_replace=0, value=None)\n",
    "\n",
    "print(f\"X_03: {missing_rate(feature['X_03'])}(%)\")\n",
    "print(f\"X_10: {missing_rate(feature['X_10'])}(%)\")\n",
    "print(f\"X_11: {missing_rate(feature['X_11'])}(%)\")"
   ]
  },
  {
   "cell_type": "markdown",
   "id": "f24cdb94",
   "metadata": {},
   "source": [
    "# Result\n",
    "Delete `X_10`, `X_11`."
   ]
  }
 ],
 "metadata": {
  "kernelspec": {
   "display_name": "Python 3 (ipykernel)",
   "language": "python",
   "name": "python3"
  },
  "language_info": {
   "codemirror_mode": {
    "name": "ipython",
    "version": 3
   },
   "file_extension": ".py",
   "mimetype": "text/x-python",
   "name": "python",
   "nbconvert_exporter": "python",
   "pygments_lexer": "ipython3",
   "version": "3.9.12"
  }
 },
 "nbformat": 4,
 "nbformat_minor": 5
}
